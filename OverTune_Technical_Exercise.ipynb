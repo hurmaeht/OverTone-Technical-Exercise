{
  "nbformat": 4,
  "nbformat_minor": 0,
  "metadata": {
    "colab": {
      "provenance": [],
      "authorship_tag": "ABX9TyPsT5vn3iJqxv2QAeAHnLL+",
      "include_colab_link": true
    },
    "kernelspec": {
      "name": "python3",
      "display_name": "Python 3"
    },
    "language_info": {
      "name": "python"
    }
  },
  "cells": [
    {
      "cell_type": "markdown",
      "metadata": {
        "id": "view-in-github",
        "colab_type": "text"
      },
      "source": [
        "<a href=\"https://colab.research.google.com/github/hurmaeht/OverTone-Technical-Exercise/blob/main/OverTune_Technical_Exercise.ipynb\" target=\"_parent\"><img src=\"https://colab.research.google.com/assets/colab-badge.svg\" alt=\"Open In Colab\"/></a>"
      ]
    },
    {
      "cell_type": "code",
      "execution_count": 23,
      "metadata": {
        "colab": {
          "base_uri": "https://localhost:8080/"
        },
        "id": "BPyA1M6yAIpC",
        "outputId": "112324a2-4501-43c4-a6b5-36f2428286b8"
      },
      "outputs": [
        {
          "output_type": "stream",
          "name": "stdout",
          "text": [
            "Enter the first sentence: she likes the bus\n",
            "Enter the second sentence: she likes the teacher\n",
            "'she likes the bus' and 'she likes the teacher' are not synonyms\n"
          ]
        }
      ],
      "source": [
        "# @title Exercise 1 - Checking for synonyms where a=b and a=c but b !=c\n",
        "# Define the list of synonyms\n",
        "synonym_pairs = [(\"eat\", \"consume\"), (\"easy\", \"simple\"), (\"coach\", \"bus\"), (\"coach\", \"teacher\")]\n",
        "\n",
        "# Define the sentences to be compared\n",
        "sentence1 = input(\"Enter the first sentence: \")\n",
        "sentence2 = input(\"Enter the second sentence: \")\n",
        "\n",
        "\n",
        "# Define a function to check if two words are direct synonyms or the same word\n",
        "def are_synonyms(word1, word2, synonym_pairs):\n",
        "    \"\"\"\n",
        "    Args:\n",
        "      word1:\n",
        "      word2:\n",
        "      synonym_pairs:\n",
        "    Returns:\n",
        "\n",
        "    \"\"\"\n",
        "    # If the words mean the same, they are synonyms and we return true\n",
        "    if word1 == word2:\n",
        "        return True\n",
        "    # Check each pair of synonyms in the list\n",
        "    for a, b in synonym_pairs:\n",
        "        # If word1 and word2 match any pair in the pre defined list, they are synonyms and we return True\n",
        "        if (word1 == a and word2 == b) or (word1 == b and word2 == a):\n",
        "            return True\n",
        "    # If no match is found, they are not synonyms and we return False\n",
        "    return False\n",
        "\n",
        "# Define a function to determine if two sentences are equivalent\n",
        "def sentences_are_equivalent(sentence1, sentence2, synonym_pairs):\n",
        "    # Split both sentences into lists of words\n",
        "    words1 = sentence1.split()\n",
        "    words2 = sentence2.split()\n",
        "\n",
        "    # If the number of words ,or length of sentence , in both sentences is different, they are not equivalent and we return False\n",
        "    if len(words1) != len(words2):\n",
        "        return False\n",
        "\n",
        "    # Compare each pair of corresponding words in both sentences\n",
        "    for w1, w2 in zip(words1, words2):\n",
        "        # If any pair of words are not synonyms, the sentences are not equivalent and we return False\n",
        "        if not are_synonyms(w1, w2, synonym_pairs):\n",
        "            return False\n",
        "\n",
        "    # If all pairs of words are synonyms, the sentences are equivalent\n",
        "    return True\n",
        "\n",
        "\n",
        "\n",
        "# Check if the sentences are equivalent\n",
        "if sentences_are_equivalent(sentence1, sentence2, synonym_pairs):\n",
        "    print(f\"'{sentence1}' and '{sentence2}' are synonyms\")\n",
        "else:\n",
        "    print(f\"'{sentence1}' and '{sentence2}' are not synonyms\")\n"
      ]
    },
    {
      "cell_type": "code",
      "source": [
        "# @title Exercise 2 - Checking for synonyms where a=b , b=c hence a=c\n",
        "# Define the list of synonyms\n",
        "synonym_pairs = [(\"eat\", \"consume\"), (\"consume\", \"devour\"), (\"easy\", \"simple\"),(\"simple\", \"straightforward\")]\n",
        "\n",
        "# Define the sentences to be compared\n",
        "sentence1 = input(\"Enter the first sentence: \")\n",
        "sentence2 = input(\"Enter the second sentence: \")\n",
        "\n",
        "# Define a function to check if two words are the same or direct synonyms\n",
        "def are_direct_synonyms(word1, word2, synonym_pairs):\n",
        "    # If the words are same, they are synonyms\n",
        "    if word1 == word2:\n",
        "        return True\n",
        "    # Check each pair of synonyms in the pre defined list\n",
        "    for a, b in synonym_pairs:\n",
        "        # If word1 and word2 match any pair, they are synonyms\n",
        "        if (word1 == a and word2 == b) or (word1 == b and word2 == a):\n",
        "            return True\n",
        "    # If no match is found, they are not synonyms\n",
        "    return False\n",
        "\n",
        "# Define a simple function to group synonyms\n",
        "def build_synonym_groups(synonym_pairs):\n",
        "    # Initialize a dictionary to hold groups of synonyms\n",
        "    groups = {}\n",
        "    # Loop through each pair of synonyms\n",
        "    for a, b in synonym_pairs:\n",
        "        # If 'a' is not already in the groups dictionary, add it\n",
        "        if a not in groups:\n",
        "            groups[a] = set()\n",
        "        # If 'b' is not already in the groups dictionary, add it\n",
        "        if b not in groups:\n",
        "            groups[b] = set()\n",
        "        # Add 'a' and 'b' to each other's sets to indicate they are synonyms\n",
        "        groups[a].add(a)\n",
        "        groups[a].add(b)\n",
        "        groups[b].add(a)\n",
        "        groups[b].add(b)\n",
        "        # Union the sets to ensure all synonyms are grouped together\n",
        "        groups[a] = groups[a].union(groups[b])\n",
        "        groups[b] = groups[a]\n",
        "    # Return the dictionary of synonym groups\n",
        "    return groups\n",
        "\n",
        "# Define a function to check if two words are transitive synonyms\n",
        "def are_transitive_synonyms(word1, word2, synonym_groups):\n",
        "    # If the words are identical, they are synonyms\n",
        "    if word1 == word2:\n",
        "        return True\n",
        "    # If either word is not in the synonym groups, they are not synonyms\n",
        "    if word1 not in synonym_groups or word2 not in synonym_groups:\n",
        "        return False\n",
        "    # Check if word2 is in the set of synonyms for word1\n",
        "    return word2 in synonym_groups[word1]\n",
        "\n",
        "# Define a function to check if two sentences are equivalent, considering transitive synonyms\n",
        "def sentences_are_equivalent(sentence1, sentence2, synonym_pairs):\n",
        "    # Split both sentences into lists of words\n",
        "    words1 = sentence1.split()\n",
        "    words2 = sentence2.split()\n",
        "\n",
        "    # If the number of words in both sentences is different, they are not equivalent\n",
        "    if len(words1) != len(words2):\n",
        "        return False\n",
        "\n",
        "    # Build the synonym groups using the synonym pairs\n",
        "    synonym_groups = build_synonym_groups(synonym_pairs)\n",
        "\n",
        "    # Compare each pair of corresponding words in both sentences\n",
        "    for w1, w2 in zip(words1, words2):\n",
        "        # If any pair of words are not transitive synonyms, the sentences are not equivalent\n",
        "        if not are_transitive_synonyms(w1, w2, synonym_groups):\n",
        "            return False\n",
        "\n",
        "    # If all pairs of words are transitive synonyms, the sentences are equivalent\n",
        "    return True\n",
        "\n",
        "# Check and print if the sentences are equivalent\n",
        "if sentences_are_equivalent(sentence1, sentence2, synonym_pairs):\n",
        "    print(f\"'{sentence1}' and '{sentence2}' are synonyms\")\n",
        "else:\n",
        "    print(f\"'{sentence1}' and '{sentence2}' are not synonyms\")\n"
      ],
      "metadata": {
        "colab": {
          "base_uri": "https://localhost:8080/"
        },
        "id": "ZWf0xXfQAmpv",
        "outputId": "292dda4c-512b-4030-93e0-7805a968c9cf"
      },
      "execution_count": 18,
      "outputs": [
        {
          "output_type": "stream",
          "name": "stdout",
          "text": [
            "Enter the first sentence: This problem is easy to solve.\n",
            "Enter the second sentence: This problem is simple to solve.\n",
            "'This problem is easy to solve.' and 'This problem is simple to solve.' are synonyms\n"
          ]
        }
      ]
    }
  ]
}